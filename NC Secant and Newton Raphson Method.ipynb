{
 "cells": [
  {
   "cell_type": "code",
   "execution_count": 12,
   "metadata": {},
   "outputs": [
    {
     "name": "stdout",
     "output_type": "stream",
     "text": [
      "\n",
      "at iteration 1\n",
      "fx is 1.088279 and fx-1 is 1.32629\n",
      "x1 is -0.057239 \n",
      "\n",
      "at iteration 2\n",
      "fx is -1.484622 and fx-1 is 1.088279\n",
      "x2 is 0.206598 \n",
      "ea is 127.71\n",
      "\n",
      "\n",
      "at iteration 3\n",
      "fx is 0.334744 and fx-1 is -1.484622\n",
      "x3 is 0.158055 \n",
      "ea is 30.71\n",
      "\n"
     ]
    }
   ],
   "source": [
    "import numpy as np\n",
    "def eq(xb):\n",
    "    x=xb\n",
    "    import numpy as np\n",
    "    import math\n",
    "    radian =8*np.deg2rad(math.degrees(math.sin(xb)))*math.exp(-x)-1\n",
    "    eqq=radian\n",
    "    eqq=round(eqq,6)\n",
    "    return eqq\n",
    "it=0\n",
    "li=[0.5,0.4]\n",
    "xx=2\n",
    "while it!=3:\n",
    "    print(\"\\nat iteration {}\".format(it+1))\n",
    "    print(\"fx is {} and fx-1 is {}\".format(eq(li[xx-1]),eq(li[xx-2])))\n",
    "    a=round(li[xx-1]-(eq(li[xx-1])*(li[xx-2]-li[xx-1]))/(eq(li[xx-2])-eq(li[xx-1])),6)\n",
    "    li.append(a)\n",
    "    print(\"x{} is {} \".format(xx-1,li[xx]))\n",
    "    if it>=1:\n",
    "        ea=abs(li[xx]-li[xx-1])/abs(li[xx])*100\n",
    "        print(\"ea is {}\\n\".format(round(ea,2)))\n",
    "    xx=xx+1\n",
    "    it=it+1"
   ]
  },
  {
   "cell_type": "code",
   "execution_count": 3,
   "metadata": {},
   "outputs": [
    {
     "data": {
      "text/plain": [
       "0"
      ]
     },
     "execution_count": 3,
     "metadata": {},
     "output_type": "execute_result"
    }
   ],
   "source": [
    "li=[0,3]\n",
    "li[2-2]"
   ]
  },
  {
   "cell_type": "code",
   "execution_count": 16,
   "metadata": {},
   "outputs": [
    {
     "name": "stdout",
     "output_type": "stream",
     "text": [
      "At iteration1\n",
      "derivate of function is -8*e**(-x)*log(e)*sin(x) + 8*e**(-x)*cos(x)\n"
     ]
    },
    {
     "ename": "NameError",
     "evalue": "name 'e' is not defined",
     "output_type": "error",
     "traceback": [
      "\u001b[1;31m---------------------------------------------------------------------------\u001b[0m",
      "\u001b[1;31mNameError\u001b[0m                                 Traceback (most recent call last)",
      "\u001b[1;32m<ipython-input-16-e709cfd15fb2>\u001b[0m in \u001b[0;36m<module>\u001b[1;34m\u001b[0m\n\u001b[0;32m     38\u001b[0m     \u001b[0mprint\u001b[0m\u001b[1;33m(\u001b[0m\u001b[1;34m\"At iteration{}\"\u001b[0m\u001b[1;33m.\u001b[0m\u001b[0mformat\u001b[0m\u001b[1;33m(\u001b[0m\u001b[0mit\u001b[0m\u001b[1;33m)\u001b[0m\u001b[1;33m)\u001b[0m\u001b[1;33m\u001b[0m\u001b[1;33m\u001b[0m\u001b[0m\n\u001b[0;32m     39\u001b[0m     \u001b[1;31m#print(\"li xx-1 is {}\".format(li[xx - 1]))\u001b[0m\u001b[1;33m\u001b[0m\u001b[1;33m\u001b[0m\u001b[1;33m\u001b[0m\u001b[0m\n\u001b[1;32m---> 40\u001b[1;33m     \u001b[0mprint\u001b[0m\u001b[1;33m(\u001b[0m\u001b[1;34m\"fx is {} and fderv is {}\"\u001b[0m\u001b[1;33m.\u001b[0m\u001b[0mformat\u001b[0m\u001b[1;33m(\u001b[0m\u001b[0meq\u001b[0m\u001b[1;33m(\u001b[0m\u001b[0mli\u001b[0m\u001b[1;33m[\u001b[0m\u001b[0mxx\u001b[0m \u001b[1;33m-\u001b[0m \u001b[1;36m1\u001b[0m\u001b[1;33m]\u001b[0m\u001b[1;33m)\u001b[0m\u001b[1;33m,\u001b[0m \u001b[0mderivate\u001b[0m\u001b[1;33m(\u001b[0m\u001b[0mli\u001b[0m\u001b[1;33m[\u001b[0m\u001b[0mxx\u001b[0m \u001b[1;33m-\u001b[0m \u001b[1;36m1\u001b[0m\u001b[1;33m]\u001b[0m\u001b[1;33m)\u001b[0m\u001b[1;33m)\u001b[0m\u001b[1;33m)\u001b[0m\u001b[1;33m\u001b[0m\u001b[1;33m\u001b[0m\u001b[0m\n\u001b[0m\u001b[0;32m     41\u001b[0m     \u001b[0ma\u001b[0m \u001b[1;33m=\u001b[0m \u001b[0mli\u001b[0m\u001b[1;33m[\u001b[0m\u001b[0mxx\u001b[0m \u001b[1;33m-\u001b[0m \u001b[1;36m1\u001b[0m\u001b[1;33m]\u001b[0m \u001b[1;33m-\u001b[0m \u001b[1;33m(\u001b[0m\u001b[0meq\u001b[0m\u001b[1;33m(\u001b[0m\u001b[0mli\u001b[0m\u001b[1;33m[\u001b[0m\u001b[0mxx\u001b[0m \u001b[1;33m-\u001b[0m \u001b[1;36m1\u001b[0m\u001b[1;33m]\u001b[0m\u001b[1;33m)\u001b[0m \u001b[1;33m/\u001b[0m \u001b[0mderivate\u001b[0m\u001b[1;33m(\u001b[0m\u001b[0mli\u001b[0m\u001b[1;33m[\u001b[0m\u001b[0mxx\u001b[0m \u001b[1;33m-\u001b[0m \u001b[1;36m1\u001b[0m\u001b[1;33m]\u001b[0m\u001b[1;33m)\u001b[0m\u001b[1;33m)\u001b[0m\u001b[1;33m\u001b[0m\u001b[1;33m\u001b[0m\u001b[0m\n\u001b[0;32m     42\u001b[0m     \u001b[0mli\u001b[0m\u001b[1;33m.\u001b[0m\u001b[0mappend\u001b[0m\u001b[1;33m(\u001b[0m\u001b[0mround\u001b[0m\u001b[1;33m(\u001b[0m\u001b[0ma\u001b[0m\u001b[1;33m,\u001b[0m \u001b[1;36m6\u001b[0m\u001b[1;33m)\u001b[0m\u001b[1;33m)\u001b[0m\u001b[1;33m\u001b[0m\u001b[1;33m\u001b[0m\u001b[0m\n",
      "\u001b[1;32m<ipython-input-16-e709cfd15fb2>\u001b[0m in \u001b[0;36mderivate\u001b[1;34m(xb)\u001b[0m\n\u001b[0;32m     13\u001b[0m     \u001b[0mprint\u001b[0m\u001b[1;33m(\u001b[0m\u001b[1;34m\"derivate of function is {}\"\u001b[0m\u001b[1;33m.\u001b[0m\u001b[0mformat\u001b[0m\u001b[1;33m(\u001b[0m\u001b[0mss\u001b[0m\u001b[1;33m)\u001b[0m\u001b[1;33m)\u001b[0m\u001b[1;33m\u001b[0m\u001b[1;33m\u001b[0m\u001b[0m\n\u001b[0;32m     14\u001b[0m     \u001b[0mx\u001b[0m \u001b[1;33m=\u001b[0m \u001b[0mxb\u001b[0m\u001b[1;33m\u001b[0m\u001b[1;33m\u001b[0m\u001b[0m\n\u001b[1;32m---> 15\u001b[1;33m     \u001b[0mst\u001b[0m \u001b[1;33m=\u001b[0m \u001b[0mround\u001b[0m\u001b[1;33m(\u001b[0m\u001b[0meval\u001b[0m\u001b[1;33m(\u001b[0m\u001b[0mss\u001b[0m\u001b[1;33m)\u001b[0m\u001b[1;33m,\u001b[0m \u001b[1;36m6\u001b[0m\u001b[1;33m)\u001b[0m\u001b[1;33m\u001b[0m\u001b[1;33m\u001b[0m\u001b[0m\n\u001b[0m\u001b[0;32m     16\u001b[0m     \u001b[1;32mreturn\u001b[0m \u001b[0mst\u001b[0m\u001b[1;33m\u001b[0m\u001b[1;33m\u001b[0m\u001b[0m\n\u001b[0;32m     17\u001b[0m \u001b[1;33m\u001b[0m\u001b[0m\n",
      "\u001b[1;32m<string>\u001b[0m in \u001b[0;36m<module>\u001b[1;34m\u001b[0m\n",
      "\u001b[1;31mNameError\u001b[0m: name 'e' is not defined"
     ]
    }
   ],
   "source": [
    "#newton raphson method\n",
    "# newton raphson method\n",
    "\n",
    "\n",
    "\n",
    "def derivate(xb):\n",
    "    import math\n",
    "    func = \"8*sin(x)*e**((-x))-1\"\n",
    "    from sympy import Symbol, Derivative\n",
    "    x = Symbol('x')\n",
    "    deriv = Derivative(func, x)\n",
    "    ss = str(deriv.doit())\n",
    "    print(\"derivate of function is {}\".format(ss))\n",
    "    x = xb\n",
    "    st = round(eval(ss), 6)\n",
    "    return st\n",
    "\n",
    "\n",
    "def eq(xb):\n",
    "    import math\n",
    "    import numpy as np\n",
    "    func = 8*np.deg2rad(math.degrees(math.sin(xb)))*np.exp(-xb)-1\n",
    "    \n",
    "    x = xb\n",
    "    import numpy as np\n",
    "    \n",
    " \n",
    "    eqq = round(func, 6)\n",
    "    return eqq\n",
    "\n",
    "\n",
    "x0 = 0.7\n",
    "ea = 100\n",
    "xx = 1\n",
    "li = [0.7]\n",
    "it = 1\n",
    "while ea>0.00:\n",
    "    print(\"At iteration{}\".format(it))\n",
    "    #print(\"li xx-1 is {}\".format(li[xx - 1]))\n",
    "    print(\"fx is {} and fderv is {}\".format(eq(li[xx - 1]), derivate(li[xx - 1])))\n",
    "    a = li[xx - 1] - (eq(li[xx - 1]) / derivate(li[xx - 1]))\n",
    "    li.append(round(a, 6))\n",
    "    print(\"x{} is {}\".format(xx, li[xx]))\n",
    "    ea = abs(li[xx] - li[xx - 1]) / abs(li[xx]) * 100\n",
    "    print(\"ea is {}\".format(round(ea, 2)))\n",
    "    xx = xx + 1\n",
    "    it = it + 1\n",
    "   "
   ]
  },
  {
   "cell_type": "code",
   "execution_count": null,
   "metadata": {},
   "outputs": [],
   "source": []
  },
  {
   "cell_type": "code",
   "execution_count": null,
   "metadata": {},
   "outputs": [],
   "source": []
  }
 ],
 "metadata": {
  "kernelspec": {
   "display_name": "Python 3",
   "language": "python",
   "name": "python3"
  },
  "language_info": {
   "codemirror_mode": {
    "name": "ipython",
    "version": 3
   },
   "file_extension": ".py",
   "mimetype": "text/x-python",
   "name": "python",
   "nbconvert_exporter": "python",
   "pygments_lexer": "ipython3",
   "version": "3.7.3"
  }
 },
 "nbformat": 4,
 "nbformat_minor": 2
}
