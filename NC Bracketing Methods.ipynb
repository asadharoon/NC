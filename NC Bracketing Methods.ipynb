{
 "cells": [
  {
   "cell_type": "code",
   "execution_count": 8,
   "metadata": {},
   "outputs": [],
   "source": [
    "def a(xb):\n",
    "    import numpy as np\n",
    "    import math\n",
    "    x=xb\n",
    "    radian = np.deg2rad(math.degrees(math.sin(xb)))-math.pow(x,2)\n",
    "    eqq=radian\n",
    "    return eqq"
   ]
  },
  {
   "cell_type": "code",
   "execution_count": 9,
   "metadata": {},
   "outputs": [
    {
     "data": {
      "text/plain": [
       "0.012972"
      ]
     },
     "execution_count": 9,
     "metadata": {},
     "output_type": "execute_result"
    }
   ],
   "source": [
    "round(a(0.864906),6)"
   ]
  },
  {
   "cell_type": "code",
   "execution_count": 1,
   "metadata": {},
   "outputs": [
    {
     "name": "stdout",
     "output_type": "stream",
     "text": [
      "Enter the value of xl-10\n",
      "Enter the value of xu10\n",
      "Enter the value of es9\n",
      "xl is -10.0 and xu is 10 and it is 1\n",
      "On iteration 1. Root Lies in upper subinterval. Therefore xl=xr=-0.839072.\n",
      "Updated sub-interval is [-0.839072,10]\n",
      "xl is -0.839072 and xu is 10 and it is 2\n",
      "On iteration 2. Root Lies in upper subinterval. Therefore xl=xr=0.484153.\n",
      "Updated sub-interval is [0.484153,10]\n",
      "%age Ea is 273.31\n",
      "xl is 0.484153 and xu is 10 and it is 3\n",
      "On iteration 3. Root Lies in lower subinterval. Therefore xu=xr=0.823572.\n",
      "li -1 is 0.484153\n",
      "Updated sub-interval is [0.484153,0.823572]\n",
      "%age Ea is 41.21\n",
      "xl is 0.484153 and xu is 0.823572 and it is 4\n",
      "On iteration 4. Root Lies in upper subinterval. Therefore xl=xr=0.733892.\n",
      "Updated sub-interval is [0.733892,0.823572]\n",
      "%age Ea is 12.22\n",
      "xl is 0.733892 and xu is 0.823572 and it is 5\n",
      "On iteration 5. Root Lies in upper subinterval. Therefore xl=xr=0.738992.\n",
      "Updated sub-interval is [0.738992,0.823572]\n",
      "%age Ea is 0.69\n"
     ]
    }
   ],
   "source": [
    "xl=float(input(\"Enter the value of xl\"))\n",
    "xu=int(input(\"Enter the value of xu\"))\n",
    "ea=100\n",
    "li=[]\n",
    "iteration=1\n",
    "li.append(xl)\n",
    "li.append(xu)\n",
    "def eq(xb):\n",
    "    x=xb\n",
    "    import numpy as np\n",
    "    import math\n",
    "    radian = xb-np.deg2rad(math.degrees(math.cos(xb)))\n",
    "    eqq=radian\n",
    "    return eqq\n",
    "def s(xl,xu):\n",
    "    fxl=eq(xl)\n",
    "    fxu=eq(xu)\n",
    "    if (fxl*fxu)<0:\n",
    "        return True\n",
    "    else:\n",
    "        return False\n",
    "es = int(input(\"Enter the value of es\"))\n",
    "while ea >= es:\n",
    "    print('xl is {} and xu is {} and it is {}'.format(xl, xu, iteration))\n",
    "    if iteration == 1:\n",
    "        if s(xl, xu) == True:\n",
    "            xr = round(xu- (eq(xu)*(xl-xu))/(eq(xl)-eq(xu)), 6)\n",
    "            fxl = round(eq(xl), 6)\n",
    "            fxr = round(eq(xr), 6)\n",
    "            if (fxl * fxr) < 0:\n",
    "                print(\"On iteration {}. Root Lies in lower subinterval. Therefore xu=xr={}.\".format(iteration, xr))\n",
    "                xu = xr\n",
    "                li.append(xu)\n",
    "                print(\"Updated sub-interval is [{},{}]\".format(xl, xu))\n",
    "\n",
    "            elif (fxl * fxr) > 0:\n",
    "                print(\"On iteration {}. Root Lies in upper subinterval. Therefore xl=xr={}.\".format(iteration, xr))\n",
    "                xl = xr\n",
    "                li.append(xl)\n",
    "                print(\"Updated sub-interval is [{},{}]\".format(xl, xu))\n",
    "\n",
    "            elif (fxl * fxr) == 0:\n",
    "                print(\"Root Found and root is {}\".format(xr))\n",
    "    else:\n",
    "        xr =round(xu- (eq(xu)*(xl-xu))/(eq(xl)-eq(xu)), 6)\n",
    "        fxl = round(eq(xl), 6)\n",
    "        fxr = round(eq(xr), 6)\n",
    "        if (fxl * fxr) < 0:\n",
    "            print(\"On iteration {}. Root Lies in lower subinterval. Therefore xu=xr={}.\".format(iteration, xr))\n",
    "            print('li -1 is '+str(li[-1]))\n",
    "            ea = round(abs(xr - li[-1]) / abs(xr) * 100, 2)\n",
    "            #Step 3\n",
    "            xu = xr\n",
    "            print(\"Updated sub-interval is [{},{}]\".format(xl, xu))\n",
    "            li.append(xu)\n",
    "            print(\"%age Ea is {}\".format(ea))\n",
    "        elif (fxl * fxr) > 0:\n",
    "            print(\"On iteration {}. Root Lies in upper subinterval. Therefore xl=xr={}.\".format(iteration, xr))\n",
    "            ea = round(abs(xr - li[-1]) / abs(xr) * 100, 2)\n",
    "            xl = xr\n",
    "            print(\"Updated sub-interval is [{},{}]\".format(xl, xu))\n",
    "            li.append(xl)\n",
    "            print(\"%age Ea is {}\".format(ea))\n",
    "        elif (fxl * fxr) == 0:\n",
    "            print(\"Root Found and root is {}\".format(xr))\n",
    "    iteration = iteration + 1\n"
   ]
  },
  {
   "cell_type": "code",
   "execution_count": 1,
   "metadata": {},
   "outputs": [
    {
     "data": {
      "text/plain": [
       "-3e-05"
      ]
     },
     "execution_count": 1,
     "metadata": {},
     "output_type": "execute_result"
    }
   ],
   "source": [
    "round(0.001918*-.015747,6)"
   ]
  },
  {
   "cell_type": "code",
   "execution_count": 3,
   "metadata": {},
   "outputs": [
    {
     "name": "stdout",
     "output_type": "stream",
     "text": [
      "Enter the value of xl1\n",
      "Enter the value of xu3\n",
      "Enter the value of es8\n",
      "xl is 1.0 and xu is 3 and it is 1\n",
      "True\n",
      "On iteration 1. Root Lies in upper subinterval. Therefore xl=xr=2.0.\n",
      "Updated sub-interval is [2.0,3]\n",
      "xl is 2.0 and xu is 3 and it is 2\n",
      "On iteration 2. Root Lies in upper subinterval. Therefore xl=xr=2.5.\n",
      "Updated sub-interval is [2.5,3]\n",
      "%age Ea is 20.0\n",
      "xl is 2.5 and xu is 3 and it is 3\n",
      "On iteration 3. Root Lies in upper subinterval. Therefore xl=xr=2.75.\n",
      "Updated sub-interval is [2.75,3]\n",
      "%age Ea is 9.09\n",
      "xl is 2.75 and xu is 3 and it is 4\n",
      "On iteration 4. Root Lies in upper subinterval. Therefore xl=xr=2.875.\n",
      "Updated sub-interval is [2.875,3]\n",
      "%age Ea is 4.35\n"
     ]
    }
   ],
   "source": [
    "xl=float(input(\"Enter the value of xl\"))\n",
    "xu=int(input(\"Enter the value of xu\"))\n",
    "ea=100\n",
    "li=[]\n",
    "iteration=1\n",
    "li.append(xl)\n",
    "li.append(xu)\n",
    "def eq(xb):\n",
    "    x=xb\n",
    "    import numpy as np\n",
    "    import math\n",
    "    radian = x**3-26\n",
    "    eqq=radian\n",
    "    return eqq\n",
    "def s(xl,xu):\n",
    "    fxl=eq(xl)\n",
    "    fxu=eq(xu)\n",
    "    if (fxl*fxu)<0:\n",
    "        return True\n",
    "    else:\n",
    "        return False\n",
    "es = int(input(\"Enter the value of es\"))\n",
    "while ea >= es:\n",
    "    print('xl is {} and xu is {} and it is {}'.format(xl, xu, iteration))\n",
    "    if iteration == 1:\n",
    "        print(s(xl, xu))\n",
    "        if s(xl, xu) == True:\n",
    "            xr = round((xl + xu) / 2, 6)\n",
    "            fxl = round(eq(xl), 6)\n",
    "            fxr = round(eq(xr), 6)\n",
    "            if (fxl * fxr) < 0:\n",
    "                print(\"On iteration {}. Root Lies in lower subinterval. Therefore xu=xr={}.\".format(iteration, xr))\n",
    "                xu = xr\n",
    "                li.append(xu)\n",
    "                print(\"Updated sub-interval is [{},{}]\".format(xl, xu))\n",
    "\n",
    "            elif (fxl * fxr) > 0:\n",
    "                print(\"On iteration {}. Root Lies in upper subinterval. Therefore xl=xr={}.\".format(iteration, xr))\n",
    "                xl = xr\n",
    "                li.append(xl)\n",
    "                print(\"Updated sub-interval is [{},{}]\".format(xl, xu))\n",
    "\n",
    "            elif (fxl * fxr) == 0:\n",
    "                print(\"Root Found and root is {}\".format(xr))\n",
    "    else:\n",
    "        xr = round((xl + xu) / 2, 6)\n",
    "        fxl = round(eq(xl), 6)\n",
    "        fxr = round(eq(xr), 6)\n",
    "        if (fxl * fxr) < 0:\n",
    "            print(\"On iteration {}. Root Lies in lower subinterval. Therefore xu=xr={}.\".format(iteration, xr))\n",
    "            xu = xr\n",
    "\n",
    "            print(\"Updated sub-interval is [{},{}]\".format(xl, xu))\n",
    "\n",
    "            ea = round(abs(xu - li[-1]) / abs(xu) * 100, 2)\n",
    "            li.append(xu)\n",
    "            print(\"%age Ea is {}\".format(ea))\n",
    "        elif (fxl * fxr) > 0:\n",
    "            print(\"On iteration {}. Root Lies in upper subinterval. Therefore xl=xr={}.\".format(iteration, xr))\n",
    "            xl = xr\n",
    "\n",
    "            print(\"Updated sub-interval is [{},{}]\".format(xl, xu))\n",
    "\n",
    "            ea = round(abs(xl - li[-1]) / abs(xl) * 100, 2)\n",
    "            li.append(xl)\n",
    "            print(\"%age Ea is {}\".format(ea))\n",
    "        elif (fxl * fxr) == 0:\n",
    "            print(\"Root Found and root is {}\".format(xr))\n",
    "    iteration = iteration + 1\n",
    "\n",
    "\n"
   ]
  },
  {
   "cell_type": "code",
   "execution_count": 6,
   "metadata": {},
   "outputs": [
    {
     "data": {
      "text/plain": [
       "0.001054"
      ]
     },
     "execution_count": 6,
     "metadata": {},
     "output_type": "execute_result"
    }
   ],
   "source": [
    "round(.081229*.012972,6)"
   ]
  },
  {
   "cell_type": "markdown",
   "metadata": {},
   "source": [
    "jgjkjkj\n"
   ]
  },
  {
   "cell_type": "markdown",
   "metadata": {},
   "source": [
    "# abc"
   ]
  },
  {
   "cell_type": "code",
   "execution_count": null,
   "metadata": {},
   "outputs": [],
   "source": []
  }
 ],
 "metadata": {
  "kernelspec": {
   "display_name": "Python 3",
   "language": "python",
   "name": "python3"
  },
  "language_info": {
   "codemirror_mode": {
    "name": "ipython",
    "version": 3
   },
   "file_extension": ".py",
   "mimetype": "text/x-python",
   "name": "python",
   "nbconvert_exporter": "python",
   "pygments_lexer": "ipython3",
   "version": "3.7.3"
  }
 },
 "nbformat": 4,
 "nbformat_minor": 2
}
